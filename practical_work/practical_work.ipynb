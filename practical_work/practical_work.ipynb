{
 "cells": [
  {
   "cell_type": "markdown",
   "metadata": {},
   "source": [
    "# Practical Work: Fire Detection"
   ]
  },
  {
   "cell_type": "code",
   "execution_count": null,
   "metadata": {},
   "outputs": [],
   "source": [
    "import sys\n",
    "import torch\n",
    "import torch.nn as nn\n",
    "from torch.utils.data import DataLoader, random_split\n",
    "from torchvision import datasets, transforms\n",
    "from torchsummary import summary\n",
    "\n",
    "import matplotlib.pyplot as plt\n",
    "\n",
    "from datasets import WildfirePredictionDataset\n",
    "from models import UNet, Classifier"
   ]
  },
  {
   "cell_type": "code",
   "execution_count": null,
   "metadata": {},
   "outputs": [],
   "source": [
    "# Set random seed for reproducability and dataset splitting\n",
    "torch.manual_seed(42)"
   ]
  },
  {
   "cell_type": "code",
   "execution_count": null,
   "metadata": {},
   "outputs": [],
   "source": [
    "device = \"cuda\" if torch.cuda.is_available() else \"cpu\"\n",
    "print(device)"
   ]
  },
  {
   "cell_type": "markdown",
   "metadata": {},
   "source": [
    "## Exploring Data"
   ]
  },
  {
   "cell_type": "code",
   "execution_count": null,
   "metadata": {},
   "outputs": [],
   "source": [
    "# Define image transformation\n",
    "transform = transforms.Compose([\n",
    "    transforms.ToTensor()\n",
    "])\n",
    "\n",
    "# Load Wildfire Prediction Dataset dataset\n",
    "dataset = WildfirePredictionDataset(split=\"valid\", transform=transform)\n",
    "print(len(dataset))"
   ]
  },
  {
   "cell_type": "code",
   "execution_count": null,
   "metadata": {},
   "outputs": [],
   "source": [
    "%%script false --no-raise-error\n",
    "# Check sample sizes\n",
    "sample_id = torch.randint(len(dataset), size=(1,)).item()\n",
    "img, label = dataset[sample_id]\n",
    "print(img.shape)\n",
    "print(label)"
   ]
  },
  {
   "cell_type": "code",
   "execution_count": null,
   "metadata": {},
   "outputs": [],
   "source": [
    "%%script false --no-raise-error\n",
    "# Plot images and labels\n",
    "cols, rows = 3, 3\n",
    "figure = plt.figure(figsize=(cols*4, rows*4))\n",
    "for i in range(1, cols * rows + 1):\n",
    "    sample_id = torch.randint(len(dataset), size=(1,)).item()\n",
    "    img, label = dataset[sample_id]\n",
    "    figure.add_subplot(rows, cols, i)\n",
    "    plt.title(f\"{label} | {dataset.labels_dict[label]}\")\n",
    "    plt.axis(\"off\")\n",
    "    plt.imshow(img.permute(1, 2, 0))\n",
    "plt.show()"
   ]
  },
  {
   "cell_type": "markdown",
   "metadata": {},
   "source": [
    "## Loading Data"
   ]
  },
  {
   "cell_type": "code",
   "execution_count": null,
   "metadata": {},
   "outputs": [],
   "source": [
    "# Create training, validation and test data loaders\n",
    "train_loader, valid_loader_1, valid_loader_2, test_loader = WildfirePredictionDataset.get_dataloaders(transform=transform, batch_size=16)"
   ]
  },
  {
   "cell_type": "markdown",
   "metadata": {},
   "source": [
    "## SimCLR"
   ]
  },
  {
   "cell_type": "markdown",
   "metadata": {},
   "source": [
    "### Image Reconstruction"
   ]
  },
  {
   "cell_type": "code",
   "execution_count": null,
   "metadata": {},
   "outputs": [],
   "source": [
    "id = 000\n",
    "reconstruction_net = UNet()\n",
    "# checkpoint = torch.load(f\"train_res/checkpoint_best.pth.tar\", weights_only=True)\n",
    "# model.load_state_dict(checkpoint)\n",
    "# model = model.eval().to(device)"
   ]
  },
  {
   "cell_type": "code",
   "execution_count": null,
   "metadata": {},
   "outputs": [],
   "source": [
    "%%script false --no-raise-error\n",
    "summary(reconstruction_net, input_size=(3, 350, 350))"
   ]
  },
  {
   "cell_type": "code",
   "execution_count": null,
   "metadata": {},
   "outputs": [],
   "source": [
    "batch_img, batch_label = next(iter(test_loader))\n",
    "print(batch_img.shape)\n",
    "# batch_encoder_out, batch_decoder_out = reconstruction_net(batch_img)"
   ]
  },
  {
   "cell_type": "code",
   "execution_count": null,
   "metadata": {},
   "outputs": [],
   "source": [
    "# %%script false --no-raise-error\n",
    "# Plot images and reconstruction\n",
    "rows = 4\n",
    "cols = 2\n",
    "fig, axs = plt.subplots(rows, cols, figsize=(cols*4, rows*4))\n",
    "for i in range(rows):\n",
    "\tsample_id = torch.randint(batch_img.shape[0], size=(1,)).item()\n",
    "\timg, label = batch_img[sample_id], batch_label[sample_id].item()\n",
    "\treconstruction = batch_decoder_out[sample_id]\n",
    "\n",
    "\taxs[i,0].imshow(img.permute(1, 2, 0))\n",
    "\taxs[i,0].set_title(f\"{label} | {dataset.labels_dict[label]}\")\n",
    "\taxs[i,0].axis(\"off\")\n",
    "\n",
    "\taxs[i,1].imshow(transforms.ToPILImage()(reconstruction.squeeze().cpu()))\n",
    "\taxs[i,1].axis(\"off\")\n",
    "    \n",
    "plt.show()"
   ]
  },
  {
   "cell_type": "markdown",
   "metadata": {},
   "source": [
    "### Image Classification"
   ]
  },
  {
   "cell_type": "code",
   "execution_count": null,
   "metadata": {},
   "outputs": [],
   "source": [
    "id = 000\n",
    "classifier_net = Classifier()\n",
    "# checkpoint = torch.load(f\"train_res/checkpoint_best.pth.tar\", weights_only=True)\n",
    "# model.load_state_dict(checkpoint)\n",
    "# model = model.eval().to(device)"
   ]
  },
  {
   "cell_type": "code",
   "execution_count": null,
   "metadata": {},
   "outputs": [],
   "source": [
    "%%script false --no-raise-error\n",
    "summary(classifier_net, input_size=(3, 350, 350))"
   ]
  }
 ],
 "metadata": {
  "kernelspec": {
   "display_name": "rob_env",
   "language": "python",
   "name": "python3"
  },
  "language_info": {
   "codemirror_mode": {
    "name": "ipython",
    "version": 3
   },
   "file_extension": ".py",
   "mimetype": "text/x-python",
   "name": "python",
   "nbconvert_exporter": "python",
   "pygments_lexer": "ipython3",
   "version": "3.12.7"
  }
 },
 "nbformat": 4,
 "nbformat_minor": 2
}
