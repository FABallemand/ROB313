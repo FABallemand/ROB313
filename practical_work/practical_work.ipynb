{
 "cells": [
  {
   "cell_type": "markdown",
   "metadata": {},
   "source": [
    "# Practical Work: Fire Detection"
   ]
  },
  {
   "cell_type": "code",
   "execution_count": null,
   "metadata": {},
   "outputs": [],
   "source": [
    "import sys\n",
    "import os\n",
    "import random\n",
    "\n",
    "import numpy as np\n",
    "from sklearn import metrics\n",
    "\n",
    "import torch\n",
    "import torch.nn as nn\n",
    "from torch.utils.data import DataLoader, random_split\n",
    "from torchvision import datasets, transforms\n",
    "from torchvision.models import resnet18, ResNet18_Weights\n",
    "from torchsummary import summary\n",
    "from torchvision.utils import make_grid, save_image\n",
    "\n",
    "from gradcam.utils import visualize_cam\n",
    "from gradcam import GradCAM, GradCAMpp\n",
    "\n",
    "from PIL import Image\n",
    "import matplotlib.pyplot as plt\n",
    "\n",
    "from datasets import WildfirePredictionDataset\n",
    "from transformations import RandomTransformation\n",
    "from models import UNet, UNetClassifier"
   ]
  },
  {
   "cell_type": "code",
   "execution_count": null,
   "metadata": {},
   "outputs": [],
   "source": [
    "# Set random seed for reproducability and dataset splitting\n",
    "torch.manual_seed(42)"
   ]
  },
  {
   "cell_type": "code",
   "execution_count": null,
   "metadata": {},
   "outputs": [],
   "source": [
    "device = \"cuda\" if torch.cuda.is_available() else \"cpu\"\n",
    "print(device)"
   ]
  },
  {
   "cell_type": "markdown",
   "metadata": {},
   "source": [
    "## Exploring Data"
   ]
  },
  {
   "cell_type": "code",
   "execution_count": null,
   "metadata": {},
   "outputs": [],
   "source": [
    "# Dataset and subsets path\n",
    "path = \"/home/ids/fallemand-24/ROB313/data/wildfire-prediction-dataset\"\n",
    "train_wf_path = \"/home/ids/fallemand-24/ROB313/data/wildfire-prediction-dataset/train/wildfire\"\n",
    "train_nwf_path = \"/home/ids/fallemand-24/ROB313/data/wildfire-prediction-dataset/train/nowildfire\"\n",
    "valid_wf_path = \"/home/ids/fallemand-24/ROB313/data/wildfire-prediction-dataset/valid/wildfire\"\n",
    "valid_nwf_path = \"/home/ids/fallemand-24/ROB313/data/wildfire-prediction-dataset/valid/nowildfire\"\n",
    "test_wf_path = \"/home/ids/fallemand-24/ROB313/data/wildfire-prediction-dataset/test/wildfire\"\n",
    "test_nwf_path = \"/home/ids/fallemand-24/ROB313/data/wildfire-prediction-dataset/test/nowildfire\""
   ]
  },
  {
   "cell_type": "code",
   "execution_count": null,
   "metadata": {},
   "outputs": [],
   "source": [
    "%%script false --no-raise-error\n",
    "# Check data (corrupted images)\n",
    "def check_data(path):\n",
    "\tfiles = os.listdir(path)\n",
    "\tfor f in files:\n",
    "\t\ttry:\n",
    "\t\t\tImage.open(os.path.join(path, f)).convert(\"RGB\")\n",
    "\t\texcept:\n",
    "\t\t\tprint(f\"{path} | {f}\")\n",
    "\n",
    "check_data(train_wf_path)\n",
    "check_data(train_nwf_path)\n",
    "check_data(valid_wf_path)\n",
    "check_data(valid_nwf_path)\n",
    "check_data(test_wf_path)\n",
    "check_data(test_nwf_path)\n",
    "\n",
    "# /home/ids/fallemand-24/ROB313/data/wildfire-prediction-dataset/train/nowildfire/-114.152378,51.027198.jpg\n",
    "# /home/ids/fallemand-24/ROB313/data/wildfire-prediction-dataset/test/wildfire/-73.15884,46.38819.jpg"
   ]
  },
  {
   "cell_type": "code",
   "execution_count": null,
   "metadata": {},
   "outputs": [],
   "source": [
    "# Check class balance\n",
    "print(f\"Train [wf]: {len(os.listdir(train_wf_path))}\")\n",
    "print(f\"Train [nwf]: {len(os.listdir(train_nwf_path))}\")\n",
    "print(f\"Valid [wf]: {len(os.listdir(valid_wf_path))}\")\n",
    "print(f\"Valid [nwf]: {len(os.listdir(valid_nwf_path))}\")\n",
    "print(f\"Test [wf]: {len(os.listdir(test_wf_path))}\")\n",
    "print(f\"Test [nwf]: {len(os.listdir(test_nwf_path))}\")"
   ]
  },
  {
   "cell_type": "code",
   "execution_count": null,
   "metadata": {},
   "outputs": [],
   "source": [
    "# Define image transformation\n",
    "transform = transforms.Compose([\n",
    "    transforms.ToTensor()\n",
    "])\n",
    "\n",
    "# Load Wildfire Prediction Dataset dataset\n",
    "dataset = WildfirePredictionDataset(split=\"valid\", transform=transform)\n",
    "print(len(dataset))"
   ]
  },
  {
   "cell_type": "code",
   "execution_count": null,
   "metadata": {},
   "outputs": [],
   "source": [
    "# Check sample sizes\n",
    "sample_id = torch.randint(len(dataset), size=(1,)).item()\n",
    "img, label = dataset[sample_id]\n",
    "print(img.shape)"
   ]
  },
  {
   "cell_type": "code",
   "execution_count": null,
   "metadata": {},
   "outputs": [],
   "source": [
    "%%script false --no-raise-error\n",
    "# Plot images and labels\n",
    "cols, rows = 3, 3\n",
    "figure = plt.figure(figsize=(cols*4, rows*4))\n",
    "for i in range(1, cols * rows + 1):\n",
    "    sample_id = torch.randint(len(dataset), size=(1,)).item()\n",
    "    img, label = dataset[sample_id]\n",
    "    figure.add_subplot(rows, cols, i)\n",
    "    plt.title(f\"{label} | {dataset.labels_dict[label]}\")\n",
    "    plt.axis(\"off\")\n",
    "    plt.imshow(img.permute(1, 2, 0))\n",
    "plt.show()"
   ]
  },
  {
   "cell_type": "code",
   "execution_count": null,
   "metadata": {},
   "outputs": [],
   "source": [
    "%%script false --no-raise-error\n",
    "# Data augmentation function\n",
    "random_trans = RandomTransformation((350, 350))\n",
    "\n",
    "# Plot images and transformed images\n",
    "rows = 3\n",
    "cols = 2\n",
    "fig, axs = plt.subplots(rows, cols, figsize=(cols*4, rows*4))\n",
    "for i in range(rows):\n",
    "\tsample_id = torch.randint(len(dataset), size=(1,)).item()\n",
    "\timg, label = dataset[sample_id]\n",
    "\timg_trans = random_trans(img)\n",
    "\n",
    "\taxs[i,0].set_title(f\"{label} | {dataset.labels_dict[label]}\")\n",
    "\taxs[i,0].axis(\"off\")\n",
    "\taxs[i,0].imshow(img.permute(1, 2, 0))\n",
    "\taxs[i,1].axis(\"off\")\n",
    "\taxs[i,1].imshow(img_trans.permute(1, 2, 0))\n",
    "plt.show()"
   ]
  },
  {
   "cell_type": "markdown",
   "metadata": {},
   "source": [
    "## Loading Data"
   ]
  },
  {
   "cell_type": "code",
   "execution_count": null,
   "metadata": {},
   "outputs": [],
   "source": [
    "# Create training, validation and test data loaders\n",
    "train_loader, valid_loader_1, valid_loader_2, test_loader = WildfirePredictionDataset.get_dataloaders(transform=transform, batch_size=16)"
   ]
  },
  {
   "cell_type": "markdown",
   "metadata": {},
   "source": [
    "## SimCLR"
   ]
  },
  {
   "cell_type": "markdown",
   "metadata": {},
   "source": [
    "### ResNet"
   ]
  },
  {
   "cell_type": "markdown",
   "metadata": {},
   "source": [
    "#### Image Projection"
   ]
  },
  {
   "cell_type": "code",
   "execution_count": null,
   "metadata": {},
   "outputs": [],
   "source": [
    "id = 285136\n",
    "resnet_auto = resnet18(weights=ResNet18_Weights.DEFAULT)\n",
    "resnet_auto.fc = nn.Sequential(\n",
    "\tnn.Linear(512, 256),\n",
    "\tnn.ReLU(),\n",
    "\tnn.Linear(256, 128),\n",
    ")\n",
    "checkpoint = torch.load(f\"train_res/{id}/checkpoint_best.pth.tar\",\n",
    "\tweights_only=True, map_location=torch.device(\"cpu\"))\n",
    "resnet_auto.load_state_dict(checkpoint[\"state_dict\"])\n",
    "resnet_auto = resnet_auto.eval().to(device)"
   ]
  },
  {
   "cell_type": "code",
   "execution_count": null,
   "metadata": {},
   "outputs": [],
   "source": [
    "%%script false --no-raise-error\n",
    "summary(resnet_auto, input_size=(3, 350, 350))"
   ]
  },
  {
   "cell_type": "code",
   "execution_count": null,
   "metadata": {},
   "outputs": [],
   "source": [
    "batch_img, batch_label = next(iter(test_loader))\n",
    "batch_out = resnet_auto(batch_img)"
   ]
  },
  {
   "cell_type": "markdown",
   "metadata": {},
   "source": [
    "#### Image Classification"
   ]
  },
  {
   "cell_type": "code",
   "execution_count": null,
   "metadata": {},
   "outputs": [],
   "source": [
    "# ResNet SL\n",
    "# For baseline comparison\n",
    "id = 285460 # All\n",
    "id = 287649 # max_valid_2 = 0.5\n",
    "id = 287992 # max_valid_2 = 0.25\n",
    "id = 288476 # max_valid_2 = 0.1\n",
    "resnet_sl = resnet18(weights=ResNet18_Weights.DEFAULT)\n",
    "resnet_sl.fc = nn.Sequential(\n",
    "\tnn.Flatten(),\n",
    "\tnn.Linear(512, 256),\n",
    "\tnn.ReLU(),\n",
    "\tnn.Linear(256, 64),\n",
    "\tnn.ReLU(),\n",
    "\tnn.Linear(64, 2),\n",
    ")\n",
    "checkpoint = torch.load(f\"train_res/{id}/checkpoint_best.pth.tar\",\n",
    "\tweights_only=True, map_location=torch.device(\"cpu\"))\n",
    "resnet_sl.load_state_dict(checkpoint[\"state_dict\"])\n",
    "resnet_sl = resnet_sl.eval().to(device)"
   ]
  },
  {
   "cell_type": "code",
   "execution_count": null,
   "metadata": {},
   "outputs": [],
   "source": [
    "# ResNet SSL\n",
    "id = 285444 # All\n",
    "id = 287271 # max_valid_2 = 0.5\n",
    "id = 287990 # max_valid_2 = 0.25\n",
    "id = 288475 # max_valid_2 = 0.1\n",
    "resnet_ssl = resnet18(weights=ResNet18_Weights.DEFAULT)\n",
    "resnet_ssl.fc = nn.Sequential(\n",
    "\tnn.Flatten(),\n",
    "\tnn.Linear(512, 256),\n",
    "\tnn.ReLU(),\n",
    "\tnn.Linear(256, 64),\n",
    "\tnn.ReLU(),\n",
    "\tnn.Linear(64, 2),\n",
    ")\n",
    "checkpoint = torch.load(f\"train_res/{id}/checkpoint_best.pth.tar\",\n",
    "\tweights_only=True, map_location=torch.device(\"cpu\"))\n",
    "resnet_ssl.load_state_dict(checkpoint[\"state_dict\"])\n",
    "resnet_ssl = resnet_ssl.eval().to(device)"
   ]
  },
  {
   "cell_type": "code",
   "execution_count": null,
   "metadata": {},
   "outputs": [],
   "source": [
    "%%script false --no-raise-error\n",
    "summary(resnet_ssl, input_size=(3, 350, 350))"
   ]
  },
  {
   "cell_type": "markdown",
   "metadata": {},
   "source": [
    "#### GradCAM"
   ]
  },
  {
   "cell_type": "code",
   "execution_count": null,
   "metadata": {},
   "outputs": [],
   "source": [
    "configs = [\n",
    "    dict(model_type=\"resnet\", arch=resnet_sl, layer_name=\"layer4\"),\n",
    "    dict(model_type=\"resnet\", arch=resnet_ssl, layer_name=\"layer4\"),\n",
    "]"
   ]
  },
  {
   "cell_type": "code",
   "execution_count": null,
   "metadata": {},
   "outputs": [],
   "source": [
    "for config in configs:\n",
    "    config[\"arch\"].to(device).eval()\n",
    "\n",
    "cams = [\n",
    "    [cls.from_config(**config) for cls in (GradCAM, GradCAMpp)]\n",
    "    for config in configs\n",
    "]"
   ]
  },
  {
   "cell_type": "code",
   "execution_count": null,
   "metadata": {},
   "outputs": [],
   "source": [
    "batch_img, batch_label = next(iter(test_loader))\n",
    "nwf_idx = (batch_label == 0).nonzero().squeeze()[0].item()\n",
    "wf_idx = (batch_label == 1).nonzero().squeeze()[0].item()"
   ]
  },
  {
   "cell_type": "code",
   "execution_count": null,
   "metadata": {},
   "outputs": [],
   "source": [
    "img = batch_img[nwf_idx].unsqueeze(0)\n",
    "\n",
    "images = []\n",
    "for gradcam, gradcam_pp in cams:\n",
    "    mask, _ = gradcam(img)\n",
    "    heatmap, result = visualize_cam(mask, img)\n",
    "\n",
    "    mask_pp, _ = gradcam_pp(img)\n",
    "    heatmap_pp, result_pp = visualize_cam(mask_pp, img)\n",
    "    \n",
    "    images.extend([img.squeeze().cpu(), heatmap, heatmap_pp, result, result_pp])\n",
    "\n",
    "grid_image = make_grid(images, nrow=5)\n",
    "transforms.ToPILImage()(grid_image)"
   ]
  },
  {
   "cell_type": "code",
   "execution_count": null,
   "metadata": {},
   "outputs": [],
   "source": [
    "img = batch_img[wf_idx].unsqueeze(0)\n",
    "\n",
    "images = []\n",
    "for gradcam, gradcam_pp in cams:\n",
    "    mask, _ = gradcam(img)\n",
    "    heatmap, result = visualize_cam(mask, img)\n",
    "\n",
    "    mask_pp, _ = gradcam_pp(img)\n",
    "    heatmap_pp, result_pp = visualize_cam(mask_pp, img)\n",
    "    \n",
    "    images.extend([img.squeeze().cpu(), heatmap, heatmap_pp, result, result_pp])\n",
    "\n",
    "grid_image = make_grid(images, nrow=5)\n",
    "transforms.ToPILImage()(grid_image)"
   ]
  },
  {
   "cell_type": "markdown",
   "metadata": {},
   "source": [
    "### UNet"
   ]
  },
  {
   "cell_type": "markdown",
   "metadata": {},
   "source": [
    "#### Image Reconstruction"
   ]
  },
  {
   "cell_type": "code",
   "execution_count": null,
   "metadata": {},
   "outputs": [],
   "source": [
    "id = 285138\n",
    "unet_auto = UNet()\n",
    "checkpoint = torch.load(f\"train_res/{id}/checkpoint_best.pth.tar\",\n",
    "\tweights_only=True, map_location=torch.device(\"cpu\"))\n",
    "unet_auto.load_state_dict(checkpoint[\"state_dict\"])\n",
    "unet_auto = unet_auto.eval().to(device)"
   ]
  },
  {
   "cell_type": "code",
   "execution_count": null,
   "metadata": {},
   "outputs": [],
   "source": [
    "%%script false --no-raise-error\n",
    "summary(unet_auto, input_size=(3, 350, 350))"
   ]
  },
  {
   "cell_type": "code",
   "execution_count": null,
   "metadata": {},
   "outputs": [],
   "source": [
    "batch_img, batch_label = next(iter(test_loader))\n",
    "batch_out = unet_auto(batch_img)"
   ]
  },
  {
   "cell_type": "code",
   "execution_count": null,
   "metadata": {},
   "outputs": [],
   "source": [
    "# %%script false --no-raise-error\n",
    "# Plot images and reconstruction\n",
    "rows = 4\n",
    "cols = 3\n",
    "fig, axs = plt.subplots(rows, cols, figsize=(cols*4, rows*4))\n",
    "for i in range(rows):\n",
    "\tsample_id = torch.randint(batch_img.shape[0], size=(1,)).item()\n",
    "\timg, label = batch_img[sample_id], batch_label[sample_id].item()\n",
    "\treconstruction = batch_out[\"x_hat\"][sample_id]\n",
    "\tdiffs = torch.mean((reconstruction - img).abs(), dim=0).detach().cpu()\n",
    "\n",
    "\taxs[i,0].imshow(img.permute(1, 2, 0))\n",
    "\taxs[i,0].set_title(f\"{label} | {dataset.labels_dict[label]}\")\n",
    "\taxs[i,0].axis(\"off\")\n",
    "\n",
    "\taxs[i,1].imshow(transforms.ToPILImage()(reconstruction.detach().cpu()))\n",
    "\taxs[i,2].set_title(\"Reconstruction\")\n",
    "\taxs[i,1].axis(\"off\")\n",
    "\n",
    "\taxs[i,2].imshow(diffs, cmap=\"viridis\")\n",
    "\taxs[i,2].set_title(\"Difference\")\n",
    "\taxs[i,2].axis(\"off\")\n",
    "    \n",
    "plt.show()"
   ]
  },
  {
   "cell_type": "markdown",
   "metadata": {},
   "source": [
    "#### Image Classification"
   ]
  },
  {
   "cell_type": "code",
   "execution_count": null,
   "metadata": {},
   "outputs": [],
   "source": [
    "# UNet SL\n",
    "# For baseline comparison\n",
    "id = 000\n",
    "unet_sl = Classifier()\n",
    "checkpoint = torch.load(f\"train_res/{id}/checkpoint_best.pth.tar\",\n",
    "\tweights_only=True, map_location=torch.device(\"cpu\"))\n",
    "unet_sl.load_state_dict(checkpoint[\"state_dict\"])\n",
    "unet_sl = unet_sl.eval().to(device)"
   ]
  },
  {
   "cell_type": "code",
   "execution_count": null,
   "metadata": {},
   "outputs": [],
   "source": [
    "# UNet SSL\n",
    "id = 000\n",
    "unet_ssl = Classifier()\n",
    "checkpoint = torch.load(f\"train_res/{id}/checkpoint_best.pth.tar\",\n",
    "\tweights_only=True, map_location=torch.device(\"cpu\"))\n",
    "unet_ssl.load_state_dict(checkpoint[\"state_dict\"])\n",
    "unet_ssl = unet_ssl.eval().to(device)"
   ]
  },
  {
   "cell_type": "code",
   "execution_count": null,
   "metadata": {},
   "outputs": [],
   "source": [
    "%%script false --no-raise-error\n",
    "summary(unet_ssl, input_size=(3, 350, 350))"
   ]
  },
  {
   "cell_type": "markdown",
   "metadata": {},
   "source": [
    "## Create Figures for Report"
   ]
  },
  {
   "cell_type": "code",
   "execution_count": null,
   "metadata": {},
   "outputs": [],
   "source": [
    "confusion_matrix = numpy.array([[2756, 64], [75, 3404]])\n",
    "cm_display = metrics.ConfusionMatrixDisplay(confusion_matrix=confusion_matrix,\n",
    "\t\t\t\t\t\t\t\t\t\t\tdisplay_labels=[\"No WF\", \"WF\"])\n",
    "cm_display.plot(cmap=plt.cm.Blues)\n",
    "plt.show()"
   ]
  },
  {
   "cell_type": "code",
   "execution_count": null,
   "metadata": {},
   "outputs": [],
   "source": [
    "len(valid_loader_2), len(valid_loader_1)"
   ]
  },
  {
   "cell_type": "code",
   "execution_count": null,
   "metadata": {},
   "outputs": [],
   "source": [
    "len_valid_loader = 197 * 16\n",
    "x = [1, 0.5, 0.25, 0.1]\n",
    "x = [v * len_valid_loader for v in x]\n",
    "sl_acc = [0.9779329895973206, 0.9714240431785583, 0.962533712387085, 0.9488807916641235]\n",
    "ssl_acc = [0.9877758622169495, 0.9798380732536316, 0.9807906150817871, 0.9738053679466248]\n",
    "sl_f1 = [0.9799913763999939, 0.9742783904075623, 0.9662471413612366, 0.9541963338851929]\n",
    "ssl_f1 = [0.9889351725578308, 0.9817187786102295, 0.9826174378395081, 0.976398229598999]\n",
    "\n",
    "fig, axs = plt.subplots(1, 2, figsize=(16, 8))\n",
    "\n",
    "axs[0].plot(x, sl_acc, label=\"SL Accuracy\")\n",
    "axs[0].plot(x, ssl_acc, label=\"SSL Accuracy\")\n",
    "axs[0].grid(\"on\")\n",
    "axs[0].legend()\n",
    "axs[0].set_xlabel(\"Test accuracy\")\n",
    "axs[0].set_xlabel(\"Number of samples used for SL training\")\n",
    "\n",
    "axs[1].plot(x, sl_f1, label=\"SL F1-Score\")\n",
    "axs[1].plot(x, ssl_f1, label=\"SSL F1-Score\")\n",
    "axs[1].grid(\"on\")\n",
    "axs[1].legend()\n",
    "axs[1].set_xlabel(\"Test F1-Score\")\n",
    "axs[1].set_xlabel(\"Number of samples used for SL training\")"
   ]
  }
 ],
 "metadata": {
  "kernelspec": {
   "display_name": "rob_env",
   "language": "python",
   "name": "python3"
  },
  "language_info": {
   "codemirror_mode": {
    "name": "ipython",
    "version": 3
   },
   "file_extension": ".py",
   "mimetype": "text/x-python",
   "name": "python",
   "nbconvert_exporter": "python",
   "pygments_lexer": "ipython3",
   "version": "3.12.7"
  }
 },
 "nbformat": 4,
 "nbformat_minor": 2
}
